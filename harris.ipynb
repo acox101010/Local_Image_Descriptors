{
 "cells": [
  {
   "cell_type": "code",
   "execution_count": 1,
   "metadata": {},
   "outputs": [],
   "source": [
    "from PIL import Image\n",
    "from scipy.ndimage import filters\n",
    "from matplotlib import pyplot as plt\n",
    "from numpy import *\n",
    "from pylab import *\n",
    "\n",
    "image_1 = (r'C:\\Users\\Reaper124\\castle.png')"
   ]
  },
  {
   "cell_type": "code",
   "execution_count": 2,
   "metadata": {},
   "outputs": [],
   "source": [
    "def compute_harris_response(im,sigma=3):\n",
    "    imx = zeros(im.shape)\n",
    "    filters.gaussian_filter(im, (sigma,sigma), (0,1), imx)\n",
    "    imy = zeros(im.shape)\n",
    "    filters.gaussian_filter(im, (sigma,sigma), (1,0), imy)\n",
    "    \n",
    "    Wxx = filters.gaussian_filter(imx*imx,sigma)\n",
    "    Wxy = filters.gaussian_filter(imx*imy,sigma)\n",
    "    Wyy = filters.gaussian_filter(imy*imy,sigma)\n",
    "    \n",
    "    Wdet = Wxx*Wyy - Wxy**2\n",
    "    Wtr = Wxx + Wyy\n",
    "    \n",
    "    return Wdet/Wtr    "
   ]
  },
  {
   "cell_type": "code",
   "execution_count": 3,
   "metadata": {},
   "outputs": [],
   "source": [
    "def get_harris_points(harrisim,min_dist=10,threshold=0.1):\n",
    "    \n",
    "    corner_threshold = harrisim.max() * threshold\n",
    "    harrisim_t = (harrisim > corner_threshold) * 1\n",
    "    \n",
    "    coords = array(harrisim_t.nonzero()).T\n",
    "    \n",
    "    candidate_values = [harrisim[c[0],c[1]] for c in coords]\n",
    "    \n",
    "    index = argsoty(candidate_values)\n",
    "    \n",
    "    allowed_locations = zeros(harrisim.shape)\n",
    "    allowed_locations[min_dist:-min_dist,min_dist:-min_dist] = 1\n",
    "    \n",
    "    filtered_coords = []\n",
    "    for i in index:\n",
    "        if allowed_locations[coords[i,0],coords[i,1]] == 1:\n",
    "            filtered_coords.append(coords[i])\n",
    "            allowed_locations[(coords[i,0]-min_dist):(coords[i,0]+min_dist),\n",
    "                              (coords[i,1]-min_dist):(coords[i,1]+min_dist)] = 0\n",
    "    return filtered_coords\n",
    "    "
   ]
  },
  {
   "cell_type": "code",
   "execution_count": 4,
   "metadata": {},
   "outputs": [],
   "source": [
    "def plot_harris_points(image,filtered_coords):\n",
    "    figure()\n",
    "    gray()\n",
    "    imshow(image)\n",
    "    plot([p[1] for p in filtered_coords],[p[0] for p in filtered_coords],'*')\n",
    "    axis('off')\n",
    "    show()\n",
    "    "
   ]
  }
 ],
 "metadata": {
  "kernelspec": {
   "display_name": "Python 3",
   "language": "python",
   "name": "python3"
  },
  "language_info": {
   "codemirror_mode": {
    "name": "ipython",
    "version": 3
   },
   "file_extension": ".py",
   "mimetype": "text/x-python",
   "name": "python",
   "nbconvert_exporter": "python",
   "pygments_lexer": "ipython3",
   "version": "3.7.0"
  }
 },
 "nbformat": 4,
 "nbformat_minor": 2
}
